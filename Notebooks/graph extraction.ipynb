{
 "cells": [
  {
   "cell_type": "code",
   "execution_count": 3,
   "id": "cf762d0a",
   "metadata": {},
   "outputs": [
    {
     "name": "stdout",
     "output_type": "stream",
     "text": [
      "Collecting fitz\n",
      "  Downloading fitz-0.0.1.dev2-py2.py3-none-any.whl (20 kB)\n",
      "Collecting nipype\n",
      "  Downloading nipype-1.7.1-py3-none-any.whl (3.2 MB)\n",
      "Collecting numpy\n",
      "  Downloading numpy-1.19.5-cp36-cp36m-win_amd64.whl (13.2 MB)\n",
      "Collecting configobj\n",
      "  Downloading configobj-5.0.8-py2.py3-none-any.whl (36 kB)\n",
      "Collecting scipy\n",
      "  Downloading scipy-1.5.4-cp36-cp36m-win_amd64.whl (31.2 MB)\n",
      "Collecting nibabel\n",
      "  Downloading nibabel-3.2.2-py3-none-any.whl (3.3 MB)\n",
      "Collecting pyxnat\n",
      "  Downloading pyxnat-1.6.3-py3-none-any.whl (95 kB)\n",
      "Collecting httplib2\n",
      "  Downloading httplib2-0.22.0-py3-none-any.whl (96 kB)\n",
      "Collecting configparser\n",
      "  Downloading configparser-5.2.0-py3-none-any.whl (19 kB)\n",
      "Collecting pandas\n",
      "  Downloading pandas-1.1.5-cp36-cp36m-win_amd64.whl (8.7 MB)\n",
      "Requirement already satisfied: six in c:\\users\\hp\\.conda\\envs\\prashasti\\lib\\site-packages (from configobj->fitz) (1.16.0)\n",
      "Collecting pyparsing!=3.0.0,!=3.0.1,!=3.0.2,!=3.0.3,<4,>=2.4.2\n",
      "  Downloading pyparsing-3.1.4-py3-none-any.whl (104 kB)\n",
      "Requirement already satisfied: setuptools in c:\\users\\hp\\.conda\\envs\\prashasti\\lib\\site-packages (from nibabel->fitz) (58.0.4)\n",
      "Collecting packaging>=14.3\n",
      "  Downloading packaging-21.3-py3-none-any.whl (40 kB)\n",
      "Collecting filelock>=3.0.0\n",
      "  Downloading filelock-3.4.1-py3-none-any.whl (9.9 kB)\n",
      "Collecting etelemetry>=0.2.0\n",
      "  Downloading etelemetry-0.2.2-py3-none-any.whl (6.2 kB)\n",
      "Collecting click>=6.6.0\n",
      "  Downloading click-8.0.4-py3-none-any.whl (97 kB)\n",
      "Requirement already satisfied: python-dateutil>=2.2 in c:\\users\\hp\\.conda\\envs\\prashasti\\lib\\site-packages (from nipype->fitz) (2.8.2)\n",
      "Collecting rdflib>=5.0.0\n",
      "  Downloading rdflib-5.0.0-py3-none-any.whl (231 kB)\n",
      "Collecting prov>=1.5.2\n",
      "  Downloading prov-2.0.1-py3-none-any.whl (421 kB)\n",
      "Collecting simplejson>=3.8.0\n",
      "  Downloading simplejson-3.20.1-cp36-cp36m-win_amd64.whl (76 kB)\n",
      "Collecting traits!=5.0,>=4.6\n",
      "  Downloading traits-6.4.1-cp36-cp36m-win_amd64.whl (5.0 MB)\n",
      "Collecting networkx>=2.0\n",
      "  Downloading networkx-2.5.1-py3-none-any.whl (1.6 MB)\n",
      "Collecting pydot>=1.2.3\n",
      "  Downloading pydot-1.4.2-py2.py3-none-any.whl (21 kB)\n",
      "Requirement already satisfied: colorama in c:\\users\\hp\\.conda\\envs\\prashasti\\lib\\site-packages (from click>=6.6.0->nipype->fitz) (0.4.5)\n",
      "Collecting importlib-metadata\n",
      "  Downloading importlib_metadata-4.8.3-py3-none-any.whl (17 kB)\n",
      "Collecting ci-info>=0.2\n",
      "  Downloading ci_info-0.2.0-py3-none-any.whl (6.9 kB)\n",
      "Collecting requests\n",
      "  Downloading requests-2.27.1-py2.py3-none-any.whl (63 kB)\n",
      "Collecting decorator<5,>=4.3\n",
      "  Downloading decorator-4.4.2-py2.py3-none-any.whl (9.2 kB)\n",
      "Collecting lxml>=3.3.5\n",
      "  Downloading lxml-5.4.0-cp36-cp36m-win_amd64.whl (3.9 MB)\n",
      "Collecting isodate\n",
      "  Downloading isodate-0.6.1-py2.py3-none-any.whl (41 kB)\n",
      "Collecting typing-extensions>=3.6.4\n",
      "  Downloading typing_extensions-4.1.1-py3-none-any.whl (26 kB)\n",
      "Collecting zipp>=0.5\n",
      "  Downloading zipp-3.6.0-py3-none-any.whl (5.3 kB)\n",
      "Collecting pytz>=2017.2\n",
      "  Downloading pytz-2025.2-py2.py3-none-any.whl (509 kB)\n",
      "Collecting pathlib>=1.0\n",
      "  Downloading pathlib-1.0.1-py3-none-any.whl (14 kB)\n",
      "Requirement already satisfied: certifi>=2017.4.17 in c:\\users\\hp\\.conda\\envs\\prashasti\\lib\\site-packages (from requests->etelemetry>=0.2.0->nipype->fitz) (2021.5.30)\n",
      "Collecting idna<4,>=2.5\n",
      "  Downloading idna-3.10-py3-none-any.whl (70 kB)\n",
      "Collecting urllib3<1.27,>=1.21.1\n",
      "  Downloading urllib3-1.26.20-py2.py3-none-any.whl (144 kB)\n",
      "Collecting charset-normalizer~=2.0.0\n",
      "  Downloading charset_normalizer-2.0.12-py3-none-any.whl (39 kB)\n",
      "Installing collected packages: zipp, urllib3, typing-extensions, pyparsing, isodate, idna, decorator, charset-normalizer, requests, rdflib, packaging, numpy, networkx, lxml, importlib-metadata, ci-info, traits, simplejson, scipy, pytz, pydot, prov, pathlib, nibabel, filelock, etelemetry, click, pyxnat, pandas, nipype, httplib2, configparser, configobj, fitz\n",
      "  Attempting uninstall: decorator\n",
      "    Found existing installation: decorator 5.1.1\n",
      "Note: you may need to restart the kernel to use updated packages.    Uninstalling decorator-5.1.1:\n",
      "\n",
      "      Successfully uninstalled decorator-5.1.1\n",
      "Successfully installed charset-normalizer-2.0.12 ci-info-0.2.0 click-8.0.4 configobj-5.0.8 configparser-5.2.0 decorator-4.4.2 etelemetry-0.2.2 filelock-3.4.1 fitz-0.0.1.dev2 httplib2-0.22.0 idna-3.10 importlib-metadata-4.8.3 isodate-0.6.1 lxml-5.4.0 networkx-2.5.1 nibabel-3.2.2 nipype-1.7.1 numpy-1.19.5 packaging-21.3 pandas-1.1.5 pathlib-1.0.1 prov-2.0.1 pydot-1.4.2 pyparsing-3.1.4 pytz-2025.2 pyxnat-1.6.3 rdflib-5.0.0 requests-2.27.1 scipy-1.5.4 simplejson-3.20.1 traits-6.4.1 typing-extensions-4.1.1 urllib3-1.26.20 zipp-3.6.0\n"
     ]
    }
   ],
   "source": [
    "pip install fitz"
   ]
  },
  {
   "cell_type": "code",
   "execution_count": 1,
   "id": "9f969e94",
   "metadata": {},
   "outputs": [
    {
     "ename": "ModuleNotFoundError",
     "evalue": "No module named 'frontend'",
     "output_type": "error",
     "traceback": [
      "\u001b[1;31m---------------------------------------------------------------------------\u001b[0m",
      "\u001b[1;31mModuleNotFoundError\u001b[0m                       Traceback (most recent call last)",
      "\u001b[1;32m<ipython-input-1-48a9135d4002>\u001b[0m in \u001b[0;36m<module>\u001b[1;34m\u001b[0m\n\u001b[0;32m      1\u001b[0m \u001b[1;32mimport\u001b[0m \u001b[0mos\u001b[0m\u001b[1;33m\u001b[0m\u001b[1;33m\u001b[0m\u001b[0m\n\u001b[1;32m----> 2\u001b[1;33m \u001b[1;32mimport\u001b[0m \u001b[0mfitz\u001b[0m\u001b[1;33m\u001b[0m\u001b[1;33m\u001b[0m\u001b[0m\n\u001b[0m",
      "\u001b[1;32mc:\\Users\\Hp\\.conda\\envs\\prashasti\\lib\\site-packages\\fitz\\__init__.py\u001b[0m in \u001b[0;36m<module>\u001b[1;34m\u001b[0m\n\u001b[1;32m----> 1\u001b[1;33m \u001b[1;32mfrom\u001b[0m \u001b[0mfrontend\u001b[0m \u001b[1;32mimport\u001b[0m \u001b[1;33m*\u001b[0m\u001b[1;33m\u001b[0m\u001b[1;33m\u001b[0m\u001b[0m\n\u001b[0m\u001b[0;32m      2\u001b[0m \u001b[1;32mimport\u001b[0m \u001b[0mtools\u001b[0m\u001b[1;33m\u001b[0m\u001b[1;33m\u001b[0m\u001b[0m\n\u001b[0;32m      3\u001b[0m \u001b[1;32mimport\u001b[0m \u001b[0mos\u001b[0m\u001b[1;33m.\u001b[0m\u001b[0mpath\u001b[0m \u001b[1;32mas\u001b[0m \u001b[0mop\u001b[0m\u001b[1;33m\u001b[0m\u001b[1;33m\u001b[0m\u001b[0m\n\u001b[0;32m      4\u001b[0m \u001b[1;33m\u001b[0m\u001b[0m\n\u001b[0;32m      5\u001b[0m \u001b[0m__version__\u001b[0m \u001b[1;33m=\u001b[0m \u001b[1;34m'0.0.1dev2'\u001b[0m\u001b[1;33m\u001b[0m\u001b[1;33m\u001b[0m\u001b[0m\n",
      "\u001b[1;31mModuleNotFoundError\u001b[0m: No module named 'frontend'"
     ]
    }
   ],
   "source": [
    "import os\n",
    "import fitz  "
   ]
  },
  {
   "cell_type": "code",
   "execution_count": null,
   "id": "8f3a83f1",
   "metadata": {},
   "outputs": [],
   "source": [
    "\n",
    "\n",
    "def capture_page_images(pdf_path, output_folder, zoom_factor=2):\n",
    "    os.makedirs(output_folder, exist_ok=True)\n",
    "    \n",
    "    doc = fitz.open(pdf_path)\n",
    "    \n",
    "    for page_num in range(len(doc)):\n",
    "        page = doc.load_page(page_num)  \n",
    "        zoom = zoom_factor\n",
    "        mat = fitz.Matrix(zoom, zoom)\n",
    "                \n",
    "        pix = page.get_pixmap(matrix=mat)\n",
    "        \n",
    "        image_save_path = os.path.join(output_folder, f\"Pdf_page_{page_num+1}.png\")\n",
    "        \n",
    "        pix.save(image_save_path)\n",
    "        \n",
    "        print(f\"Captured and saved page image to: {image_save_path}\")\n",
    "\n",
    "pdf_path = 'D:/Desktop/deloitte/Project/Gemini/DASHBOARD.pdf'\n",
    "\n",
    "output_folder = 'D:/Desktop/deloitte/Project/Gemini/venv/New/Pdf_pages'\n",
    "\n",
    "capture_page_images(pdf_path, output_folder)\n"
   ]
  }
 ],
 "metadata": {
  "kernelspec": {
   "display_name": "prashasti",
   "language": "python",
   "name": "prashasti"
  },
  "language_info": {
   "codemirror_mode": {
    "name": "ipython",
    "version": 3
   },
   "file_extension": ".py",
   "mimetype": "text/x-python",
   "name": "python",
   "nbconvert_exporter": "python",
   "pygments_lexer": "ipython3",
   "version": "3.6.13"
  }
 },
 "nbformat": 4,
 "nbformat_minor": 5
}
